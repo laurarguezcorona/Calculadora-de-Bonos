{
  "nbformat": 4,
  "nbformat_minor": 0,
  "metadata": {
    "colab": {
      "provenance": [],
      "authorship_tag": "ABX9TyMIqNASNXZGbF0YHsZZOn1U",
      "include_colab_link": true
    },
    "kernelspec": {
      "name": "python3",
      "display_name": "Python 3"
    },
    "language_info": {
      "name": "python"
    }
  },
  "cells": [
    {
      "cell_type": "markdown",
      "metadata": {
        "id": "view-in-github",
        "colab_type": "text"
      },
      "source": [
        "<a href=\"https://colab.research.google.com/github/laurarguezcorona/Calculadora-de-Bonos/blob/main/Calculo_de_VaR.ipynb\" target=\"_parent\"><img src=\"https://colab.research.google.com/assets/colab-badge.svg\" alt=\"Open In Colab\"/></a>"
      ]
    },
    {
      "cell_type": "code",
      "execution_count": null,
      "metadata": {
        "id": "vRGZ5kNBrN00"
      },
      "outputs": [],
      "source": []
    },
    {
      "cell_type": "markdown",
      "source": [
        "02.1 Cálculo del VaR con Python (colab)\n",
        "\n",
        "Por favor, realice, en un archivo de Google colab, el calculo del valor en riesgo con los siguientes requisitos:\n",
        "\n",
        "VaR a 98% de probabilidad de suceso a 1, 2, 3 ,4 y 5 días.\n",
        "VaR a 95% de probabilidad de suceso a 1, 2, 3 ,4 y 5 días.\n",
        "Calcule el VaR en pérdida monetaria, empleando variaciones porcentuales.\n",
        "Calcule el VaR en pérdida monetaria, empleando P/L\n",
        "Para evaluar el Var, utilice precios históricos diarios de los últimos 250 días, siendo la fecha de valuación el 9 de septiembre de 2024.\n",
        "\n",
        "Proporcione la liga de su colab con privilegios de edición para fines de evaluación."
      ],
      "metadata": {
        "id": "rAhUTGDOr-W3"
      }
    },
    {
      "cell_type": "code",
      "source": [
        "import yfinance as yf\n",
        "import numpy as np\n",
        "import pandas as pd\n",
        "from datetime import datetime, timedelta"
      ],
      "metadata": {
        "id": "lat3tEBusA4W"
      },
      "execution_count": 1,
      "outputs": []
    },
    {
      "cell_type": "code",
      "source": [
        "# definir la fecha de valuación\n",
        "valuation_date = \"2024-09-09\""
      ],
      "metadata": {
        "id": "7uXsMdCssZ7W"
      },
      "execution_count": 2,
      "outputs": []
    },
    {
      "cell_type": "code",
      "source": [
        "#Obtener los precios históricos de *MXX\n",
        "# Obtener precios históricos de los últimos 250 días desde la fecha de valuación usaré 365 dias para garantizar que sean 250 dias efectivos.\n",
        "ticker = \"^MXX\"\n",
        "end_date = datetime.strptime(valuation_date, \"2024-09-09\")\n",
        "start_date = end_date - timedelta(days=250)\n",
        "data = yf.download(ticker, start=start_date, end=end_date)"
      ],
      "metadata": {
        "colab": {
          "base_uri": "https://localhost:8080/"
        },
        "id": "dXU9pW6_smqd",
        "outputId": "63d034c8-daf3-4e8c-a26c-e7f9a0d76cc2"
      },
      "execution_count": 38,
      "outputs": [
        {
          "output_type": "stream",
          "name": "stderr",
          "text": [
            "\r[*********************100%***********************]  1 of 1 completed\n",
            "ERROR:yfinance:\n",
            "1 Failed download:\n",
            "ERROR:yfinance:['^MXX']: YFPricesMissingError('$%ticker%: possibly delisted; no price data found  (1d 1899-04-26 00:00:00 -> 1900-01-01 00:00:00) (Yahoo error = \"Data doesn\\'t exist for startDate = -2230564980, endDate = -2208964980\")')\n"
          ]
        }
      ]
    },
    {
      "cell_type": "code",
      "source": [
        "#calcular los retornos diarios\n",
        "\n",
        "data['Returns'] = data['Adj Close'].pct_change()\n",
        "returns = data['Returns'].dropna()"
      ],
      "metadata": {
        "colab": {
          "base_uri": "https://localhost:8080/",
          "height": 339
        },
        "id": "h-3rkv4YtNw3",
        "outputId": "b4517f21-01b6-4ba1-fa12-c59ac2c97be9"
      },
      "execution_count": 39,
      "outputs": [
        {
          "output_type": "error",
          "ename": "ValueError",
          "evalue": "attempt to get argmax of an empty sequence",
          "traceback": [
            "\u001b[0;31m---------------------------------------------------------------------------\u001b[0m",
            "\u001b[0;31mValueError\u001b[0m                                Traceback (most recent call last)",
            "\u001b[0;32m<ipython-input-39-27c90318b864>\u001b[0m in \u001b[0;36m<cell line: 3>\u001b[0;34m()\u001b[0m\n\u001b[1;32m      1\u001b[0m \u001b[0;31m#calcular los retornos diarios\u001b[0m\u001b[0;34m\u001b[0m\u001b[0;34m\u001b[0m\u001b[0m\n\u001b[1;32m      2\u001b[0m \u001b[0;34m\u001b[0m\u001b[0m\n\u001b[0;32m----> 3\u001b[0;31m \u001b[0mdata\u001b[0m\u001b[0;34m[\u001b[0m\u001b[0;34m'Returns'\u001b[0m\u001b[0;34m]\u001b[0m \u001b[0;34m=\u001b[0m \u001b[0mdata\u001b[0m\u001b[0;34m[\u001b[0m\u001b[0;34m'Adj Close'\u001b[0m\u001b[0;34m]\u001b[0m\u001b[0;34m.\u001b[0m\u001b[0mpct_change\u001b[0m\u001b[0;34m(\u001b[0m\u001b[0;34m)\u001b[0m\u001b[0;34m\u001b[0m\u001b[0;34m\u001b[0m\u001b[0m\n\u001b[0m\u001b[1;32m      4\u001b[0m \u001b[0mreturns\u001b[0m \u001b[0;34m=\u001b[0m \u001b[0mdata\u001b[0m\u001b[0;34m[\u001b[0m\u001b[0;34m'Returns'\u001b[0m\u001b[0;34m]\u001b[0m\u001b[0;34m.\u001b[0m\u001b[0mdropna\u001b[0m\u001b[0;34m(\u001b[0m\u001b[0;34m)\u001b[0m\u001b[0;34m\u001b[0m\u001b[0;34m\u001b[0m\u001b[0m\n",
            "\u001b[0;32m/usr/local/lib/python3.10/dist-packages/pandas/core/generic.py\u001b[0m in \u001b[0;36mpct_change\u001b[0;34m(self, periods, fill_method, limit, freq, **kwargs)\u001b[0m\n\u001b[1;32m  11710\u001b[0m                 \u001b[0;32mfor\u001b[0m \u001b[0m_\u001b[0m\u001b[0;34m,\u001b[0m \u001b[0mcol\u001b[0m \u001b[0;32min\u001b[0m \u001b[0mcols\u001b[0m\u001b[0;34m:\u001b[0m\u001b[0;34m\u001b[0m\u001b[0;34m\u001b[0m\u001b[0m\n\u001b[1;32m  11711\u001b[0m                     \u001b[0mmask\u001b[0m \u001b[0;34m=\u001b[0m \u001b[0mcol\u001b[0m\u001b[0;34m.\u001b[0m\u001b[0misna\u001b[0m\u001b[0;34m(\u001b[0m\u001b[0;34m)\u001b[0m\u001b[0;34m.\u001b[0m\u001b[0mvalues\u001b[0m\u001b[0;34m\u001b[0m\u001b[0;34m\u001b[0m\u001b[0m\n\u001b[0;32m> 11712\u001b[0;31m                     \u001b[0mmask\u001b[0m \u001b[0;34m=\u001b[0m \u001b[0mmask\u001b[0m\u001b[0;34m[\u001b[0m\u001b[0mnp\u001b[0m\u001b[0;34m.\u001b[0m\u001b[0margmax\u001b[0m\u001b[0;34m(\u001b[0m\u001b[0;34m~\u001b[0m\u001b[0mmask\u001b[0m\u001b[0;34m)\u001b[0m \u001b[0;34m:\u001b[0m\u001b[0;34m]\u001b[0m\u001b[0;34m\u001b[0m\u001b[0;34m\u001b[0m\u001b[0m\n\u001b[0m\u001b[1;32m  11713\u001b[0m                     \u001b[0;32mif\u001b[0m \u001b[0mmask\u001b[0m\u001b[0;34m.\u001b[0m\u001b[0many\u001b[0m\u001b[0;34m(\u001b[0m\u001b[0;34m)\u001b[0m\u001b[0;34m:\u001b[0m\u001b[0;34m\u001b[0m\u001b[0;34m\u001b[0m\u001b[0m\n\u001b[1;32m  11714\u001b[0m                         warnings.warn(\n",
            "\u001b[0;32m/usr/local/lib/python3.10/dist-packages/numpy/core/fromnumeric.py\u001b[0m in \u001b[0;36margmax\u001b[0;34m(a, axis, out, keepdims)\u001b[0m\n\u001b[1;32m   1227\u001b[0m     \"\"\"\n\u001b[1;32m   1228\u001b[0m     \u001b[0mkwds\u001b[0m \u001b[0;34m=\u001b[0m \u001b[0;34m{\u001b[0m\u001b[0;34m'keepdims'\u001b[0m\u001b[0;34m:\u001b[0m \u001b[0mkeepdims\u001b[0m\u001b[0;34m}\u001b[0m \u001b[0;32mif\u001b[0m \u001b[0mkeepdims\u001b[0m \u001b[0;32mis\u001b[0m \u001b[0;32mnot\u001b[0m \u001b[0mnp\u001b[0m\u001b[0;34m.\u001b[0m\u001b[0m_NoValue\u001b[0m \u001b[0;32melse\u001b[0m \u001b[0;34m{\u001b[0m\u001b[0;34m}\u001b[0m\u001b[0;34m\u001b[0m\u001b[0;34m\u001b[0m\u001b[0m\n\u001b[0;32m-> 1229\u001b[0;31m     \u001b[0;32mreturn\u001b[0m \u001b[0m_wrapfunc\u001b[0m\u001b[0;34m(\u001b[0m\u001b[0ma\u001b[0m\u001b[0;34m,\u001b[0m \u001b[0;34m'argmax'\u001b[0m\u001b[0;34m,\u001b[0m \u001b[0maxis\u001b[0m\u001b[0;34m=\u001b[0m\u001b[0maxis\u001b[0m\u001b[0;34m,\u001b[0m \u001b[0mout\u001b[0m\u001b[0;34m=\u001b[0m\u001b[0mout\u001b[0m\u001b[0;34m,\u001b[0m \u001b[0;34m**\u001b[0m\u001b[0mkwds\u001b[0m\u001b[0;34m)\u001b[0m\u001b[0;34m\u001b[0m\u001b[0;34m\u001b[0m\u001b[0m\n\u001b[0m\u001b[1;32m   1230\u001b[0m \u001b[0;34m\u001b[0m\u001b[0m\n\u001b[1;32m   1231\u001b[0m \u001b[0;34m\u001b[0m\u001b[0m\n",
            "\u001b[0;32m/usr/local/lib/python3.10/dist-packages/numpy/core/fromnumeric.py\u001b[0m in \u001b[0;36m_wrapfunc\u001b[0;34m(obj, method, *args, **kwds)\u001b[0m\n\u001b[1;32m     57\u001b[0m \u001b[0;34m\u001b[0m\u001b[0m\n\u001b[1;32m     58\u001b[0m     \u001b[0;32mtry\u001b[0m\u001b[0;34m:\u001b[0m\u001b[0;34m\u001b[0m\u001b[0;34m\u001b[0m\u001b[0m\n\u001b[0;32m---> 59\u001b[0;31m         \u001b[0;32mreturn\u001b[0m \u001b[0mbound\u001b[0m\u001b[0;34m(\u001b[0m\u001b[0;34m*\u001b[0m\u001b[0margs\u001b[0m\u001b[0;34m,\u001b[0m \u001b[0;34m**\u001b[0m\u001b[0mkwds\u001b[0m\u001b[0;34m)\u001b[0m\u001b[0;34m\u001b[0m\u001b[0;34m\u001b[0m\u001b[0m\n\u001b[0m\u001b[1;32m     60\u001b[0m     \u001b[0;32mexcept\u001b[0m \u001b[0mTypeError\u001b[0m\u001b[0;34m:\u001b[0m\u001b[0;34m\u001b[0m\u001b[0;34m\u001b[0m\u001b[0m\n\u001b[1;32m     61\u001b[0m         \u001b[0;31m# A TypeError occurs if the object does have such a method in its\u001b[0m\u001b[0;34m\u001b[0m\u001b[0;34m\u001b[0m\u001b[0m\n",
            "\u001b[0;31mValueError\u001b[0m: attempt to get argmax of an empty sequence"
          ]
        }
      ]
    },
    {
      "cell_type": "code",
      "source": [
        "# Definir los niveles de confianza\n",
        "confidence_levels = [0.98, 0.95]"
      ],
      "metadata": {
        "id": "_ibegB3ctqYu"
      },
      "execution_count": 12,
      "outputs": []
    },
    {
      "cell_type": "code",
      "source": [
        "# Definir horizontes (1 a 5 días)???\n",
        "\n",
        "horizons = [1, 2, 3, 4, 5]"
      ],
      "metadata": {
        "id": "SPXq3Ee7t9NF"
      },
      "execution_count": 17,
      "outputs": []
    },
    {
      "cell_type": "code",
      "source": [
        "# Definir la Función para calcular el Valor en riesgo del activo *MXX\n",
        "def calculate_var(returns, confidence_level, horizon):\n",
        "    # VaR basado en percentil\n",
        "    var_percentile = np.percentile(returns, (1 - confidence_level) * 100)\n",
        "    # Ajustar el VaR al horizonte temporal\n",
        "    var_horizon = var_percentile * np.sqrt(horizon)\n",
        "    return var_horizon"
      ],
      "metadata": {
        "id": "_H35SZf0uTdm"
      },
      "execution_count": 18,
      "outputs": []
    },
    {
      "cell_type": "code",
      "source": [
        "# Crear un dataframe para almacenar los resultados de VaR porcentual\n",
        "var_results = pd.DataFrame(columns=['Confidence Level', 'Horizon (days)', 'VaR (%)'])"
      ],
      "metadata": {
        "id": "WWo8n2DGukou"
      },
      "execution_count": 21,
      "outputs": []
    },
    {
      "cell_type": "code",
      "source": [
        "# Calcular el VaR para diferentes niveles de confianza y horizontes\n",
        "for confidence_level in confidence_levels:\n",
        "    for horizon in horizons:\n",
        "        var = calculate_var(returns, confidence_level, horizon)\n",
        "        var_results = var_results.append({\n",
        "            'Confidence Level': confidence_level,\n",
        "            'Horizon (days)': horizon,\n",
        "            'VaR (%)': var * 100\n",
        "        }, ignore_index=True)"
      ],
      "metadata": {
        "id": "tD9ecR3dupJe"
      },
      "execution_count": null,
      "outputs": []
    },
    {
      "cell_type": "code",
      "source": [
        "# Mostrar resultados de VaR porcentual\n",
        "print(\"VaR porcentual:\")\n",
        "print(var_results)"
      ],
      "metadata": {
        "colab": {
          "base_uri": "https://localhost:8080/"
        },
        "id": "UuyuV83Puvnt",
        "outputId": "e8760a80-3dc1-497e-e61f-0d6b7edd2e48"
      },
      "execution_count": 26,
      "outputs": [
        {
          "output_type": "stream",
          "name": "stdout",
          "text": [
            "VaR porcentual:\n",
            "Empty DataFrame\n",
            "Columns: [Confidence Level, Horizon (days), VaR (%)]\n",
            "Index: []\n"
          ]
        }
      ]
    },
    {
      "cell_type": "code",
      "source": [
        "# Supongamos una inversión inicial de 100,000 USD para calcular el VaR en términos monetarios\n",
        "investment = 100000"
      ],
      "metadata": {
        "id": "7wIiY4VMuzJG"
      },
      "execution_count": 27,
      "outputs": []
    },
    {
      "cell_type": "code",
      "source": [
        "# Calcular el VaR en términos monetarios (variaciones porcentuales)\n",
        "var_results['Monetary Loss (%)'] = var_results['VaR (%)'] / 100 * investment"
      ],
      "metadata": {
        "id": "cv9MG5xYu4u1"
      },
      "execution_count": 28,
      "outputs": []
    },
    {
      "cell_type": "code",
      "source": [
        "# Mostrar resultados de pérdida monetaria usando variaciones porcentuales\n",
        "print(\"\\nVaR en términos monetarios usando variaciones porcentuales:\")\n",
        "print(var_results)"
      ],
      "metadata": {
        "colab": {
          "base_uri": "https://localhost:8080/"
        },
        "id": "i_tQV1dVu94d",
        "outputId": "73c81448-1da8-44c9-b6af-fbb9b26c2dce"
      },
      "execution_count": 29,
      "outputs": [
        {
          "output_type": "stream",
          "name": "stdout",
          "text": [
            "\n",
            "VaR en términos monetarios usando variaciones porcentuales:\n",
            "Empty DataFrame\n",
            "Columns: [Confidence Level, Horizon (days), VaR (%), Monetary Loss (%)]\n",
            "Index: []\n"
          ]
        }
      ]
    },
    {
      "cell_type": "code",
      "source": [
        "# Ahora vamos a calcular el VaR basado en P/L (ganancias y pérdidas)\n",
        "# Calcular P/L diario (diferencias entre precios de cierre ajustado)\n",
        "data['P/L'] = data['Adj Close'].diff()"
      ],
      "metadata": {
        "id": "hhq0xd12vBYX"
      },
      "execution_count": 30,
      "outputs": []
    },
    {
      "cell_type": "code",
      "source": [
        "# Crear un dataframe para almacenar los resultados de VaR en P/L\n",
        "var_pl_results = pd.DataFrame(columns=['Confidence Level', 'Horizon (days)', 'VaR (P/L)'])"
      ],
      "metadata": {
        "id": "F9RDxOiSvDA1"
      },
      "execution_count": 31,
      "outputs": []
    },
    {
      "cell_type": "code",
      "source": [
        "# Calcular el VaR para diferentes niveles de confianza y horizontes usando P/L\n",
        "for confidence_level in confidence_levels:\n",
        "    for horizon in horizons:\n",
        "        pl_var = calculate_var(data['P/L'].dropna(), confidence_level, horizon)\n",
        "        var_pl_results = var_pl_results.append({\n",
        "            'Confidence Level': confidence_level,\n",
        "            'Horizon (days)': horizon,\n",
        "            'VaR (P/L)': pl_var\n",
        "        }, ignore_index=True)"
      ],
      "metadata": {
        "id": "H5pa3vrLvIJ1"
      },
      "execution_count": null,
      "outputs": []
    },
    {
      "cell_type": "code",
      "source": [
        "# Calcular la pérdida monetaria basada en P/L\n",
        "var_pl_results['Monetary Loss (P/L)'] = var_pl_results['VaR (P/L)']"
      ],
      "metadata": {
        "id": "8z5lclxpvOMm"
      },
      "execution_count": 33,
      "outputs": []
    },
    {
      "cell_type": "code",
      "source": [
        "# Mostrar los resultados de VaR en términos de P/L\n",
        "print(\"\\nVaR en términos monetarios usando P/L:\")\n",
        "print(var_pl_results)"
      ],
      "metadata": {
        "colab": {
          "base_uri": "https://localhost:8080/"
        },
        "id": "zFCzRGjqvW72",
        "outputId": "aff482ed-cc6e-488a-8a4e-98d2c4f75e2e"
      },
      "execution_count": 34,
      "outputs": [
        {
          "output_type": "stream",
          "name": "stdout",
          "text": [
            "\n",
            "VaR en términos monetarios usando P/L:\n",
            "Empty DataFrame\n",
            "Columns: [Confidence Level, Horizon (days), VaR (P/L), Monetary Loss (P/L)]\n",
            "Index: []\n"
          ]
        }
      ]
    }
  ]
}